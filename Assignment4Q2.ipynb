{
 "cells": [
  {
   "cell_type": "code",
   "execution_count": 35,
   "metadata": {
    "scrolled": true
   },
   "outputs": [
    {
     "name": "stdout",
     "output_type": "stream",
     "text": [
      "\n",
      "Fa: the average increase in the total test error : \n",
      "4.9999999999999826e-05\n",
      "\n",
      "Fb: the variance of each feature on the test set :\n",
      " [0.0, 0.0, 9.222222222222221, 36.5, 3.888888888888889, 22.38888888888889, 0.3541666666666667, 0.0, 0.0, 1.2222222222222219, 38.90972222222222, 25.6875, 11.805555555555555, 6.576388888888889, 3.8541666666666665, 0.0, 0.0, 5.1875, 42.57638888888889, 17.409722222222218, 59.24305555555555, 4.409722222222222, 14.076388888888891, 0.0, 0.0, 8.722222222222221, 6.472222222222222, 44.1875, 62.22222222222222, 14.576388888888888, 11.25, 0.0, 0.0, 9.354166666666666, 33.30555555555555, 27.576388888888886, 60.743055555555564, 15.576388888888888, 14.354166666666666, 0.0, 0.0, 5.576388888888888, 52.72222222222222, 19.909722222222225, 54.90972222222221, 13.25, 14.576388888888886, 0.0, 0.0, 1.4166666666666667, 43.40972222222223, 25.25, 11.020833333333334, 8.38888888888889, 4.138888888888888, 0.0, 0.0, 0.0, 12.243055555555557, 29.1875, 3.1875, 23.555555555555554, 1.2430555555555554, 0.0]\n",
      "\n",
      "Fc: the mutual information between the feature column and the label column :\n",
      " [0.0, 0.0, 0.20552248677248697, 0.61432178932179, 0.0, 0.0926286676286685, 0.04401455026455103, 0.21848845598845656, 0.10731120731120813, 0.03439153439153486, 0.7087662337662348, 0.4285744348244356, 0.33217893217893324, 0.0, 0.0, 0.0, 0.038293650793651324, 0.36412337662337757, 0.7268217893217903, 0.08773448773448878, 0.8407106782106792, 0.0746392496392505, 0.19944083694083803, 0.0, 0.0, 0.0, 0.005591630591631258, 0.5586670274170282, 0.8059884559884567, 0.0, 0.5343614718614731, 0.0, 0.0, 0.10033369408369519, 0.16782708032708116, 0.14037698412698463, 0.5716299903799915, 0.08704004329004467, 0.6246392496392501, 0.0, 0.0, 0.0, 0.6565836940836955, 0.0, 0.7282106782106788, 0.0, 0.23138528138528258, 0.18823051948052005, 0.0, 0.5674272486772491, 0.6601551226551237, 0.2587662337662351, 0.5690836940836947, 0.0, 0.034262265512266854, 0.015942159692160063, 0.17067099567099642, 0.0, 0.1355519480519487, 0.500796657046658, 0.0, 0.35949374699374825, 0.0, 0.023250360750361132]\n"
     ]
    },
    {
     "data": {
      "text/plain": [
       "[<matplotlib.lines.Line2D at 0x2349f731430>]"
      ]
     },
     "execution_count": 35,
     "metadata": {},
     "output_type": "execute_result"
    },
    {
     "data": {
      "image/png": "[encoded data removed]",
      "text/plain": [
       "<Figure size 432x288 with 1 Axes>"
      ]
     },
     "metadata": {
      "needs_background": "light"
     },
     "output_type": "display_data"
    }
   ],
   "source": [
    "import numpy as np \n",
    "import random\n",
    "import math\n",
    "from sklearn.feature_selection import mutual_info_regression\n",
    "import warnings\n",
    "warnings.simplefilter(action='ignore', category=FutureWarning)\n",
    "import matplotlib.pyplot as plt\n",
    "\n",
    "def import_data(filename, delimiter):\n",
    "    training_data = list()\n",
    "    with open(filename) as tr:\n",
    "        read_data = tr.read()\n",
    "        for row in read_data.split(\"\\n\"):\n",
    "            training_data.append(row.split(delimiter))\n",
    "    training_data = training_data[:len(training_data)-1]\n",
    "    # print(str(len(training_data)))\n",
    "    return training_data\n",
    "\n",
    "def filter_0_and_1(training_data):\n",
    "    training_data_class_0_and_1_64 = list()\n",
    "    training_data_classes_64 = list()\n",
    "    features = random.randint(50, 64)\n",
    "    for i in range(0, len(training_data[features-50:features])):\n",
    "        if(training_data[i][len(training_data[i])-1] == '0'):\n",
    "            training_data_class_0_and_1_64.append(training_data[i][:len(training_data[i])-1])\n",
    "            training_data_classes_64.append(training_data[i][len(training_data[i])-1])\n",
    "        elif (training_data[i][len(training_data[i])-1] == '1'):\n",
    "            training_data_class_0_and_1_64.append(training_data[i][:len(training_data[i])-1])\n",
    "            training_data_classes_64.append(training_data[i][len(training_data[i])-1])\n",
    "    return (training_data_class_0_and_1_64, training_data_classes_64 )\n",
    "\n",
    "def sigmoid(x):\n",
    "  return 1/(1+np.exp(-x))\n",
    "\n",
    "def logistic_regression(X, Y, learning_rate):\n",
    "    W = list()\n",
    "    delta_w = list()\n",
    "    o = 0.0\n",
    "    r = list()\n",
    "    error = list()\n",
    "    square_error = list()\n",
    "    for i in range(len(Y)):\n",
    "        r.append(Y[i])\n",
    "    for i in range(len(X[0])):\n",
    "        W.append(random.uniform(-0.01,0.01))\n",
    "        delta_w.append(0)\n",
    "        error.append(0.0)\n",
    "        square_error.append(0.0)\n",
    "    for i in range(len(Y)):\n",
    "        o = 0\n",
    "        for j in range(len(X[0])):\n",
    "            o = o + W[j]*float(X[i][j])\n",
    "        y = sigmoid(o)\n",
    "        delta_w[j] += (float(r[i])-y)*float(X[i][j])\n",
    "        square_error[j] += (float(r[i])-y) * (float(r[i])-y)\n",
    "    for j in range(len(X[0])):\n",
    "        W[j] += learning_rate * delta_w[j]\n",
    "        error[j] = math.sqrt(square_error[j]/62)\n",
    "    return error\n",
    "\n",
    "def logistic_regression_with_zero_weight(X, Y, learning_rate):\n",
    "    W = list()\n",
    "    delta_w = list()\n",
    "    o = 0.0\n",
    "    r = list()\n",
    "    error = list()\n",
    "    square_error = list()\n",
    "    for i in range(len(Y)):\n",
    "        r.append(Y[i])\n",
    "    for i in range(len(X[0])):\n",
    "        W.append(0)\n",
    "        delta_w.append(0)\n",
    "        error.append(0.0)\n",
    "        square_error.append(0.0)\n",
    "    for i in range(len(Y)):\n",
    "        o = 0\n",
    "        for j in range(len(X[0])):\n",
    "            o = o + W[j]*float(X[i][j])\n",
    "        y = sigmoid(o)\n",
    "        delta_w[j] += (float(r[i])-y)*float(X[i][j])\n",
    "        square_error[j] += (float(r[i])-y) * (float(r[i])-y)\n",
    "    for j in range(len(X[0])):\n",
    "        W[j] += learning_rate * delta_w[j]\n",
    "        error[j] = math.sqrt(square_error[j]/62)\n",
    "    return error\n",
    "\n",
    "def variance(X):\n",
    "    var = list()\n",
    "    for i in range(len(X[0])):\n",
    "        var.append(np.var(X[:,i]))\n",
    "    return var    \n",
    "\n",
    "training_data = import_data('optdigits.tra', \"\\t\")\n",
    "testing_data = import_data('optdigits.tes', \"\\t\")\n",
    "\n",
    "training_data_class_0_and_1_500_64, training_data_classes_500_64 = filter_0_and_1(training_data)\n",
    "testing_data_class_0_and_1_500_64, testing_data_classes_500_64 = filter_0_and_1(testing_data)\n",
    "\n",
    "learning_rates = [0.00005, 0.0001, 0.0005, 0.001, 0.005, 0.01, 0.05, 0.1, 0.5, 1.0] \n",
    "test_erros_over_10_runs = list()\n",
    "test_erros_over_10_runs_with_zero_weight = list()\n",
    "for learning_rate in learning_rates:\n",
    "    error = logistic_regression(testing_data_class_0_and_1_500_64, testing_data_classes_500_64, learning_rate)\n",
    "    test_erros_over_10_runs.append(\"{:.4f}\".format(sum(error)/len(error)))\n",
    "#     print(\"mean testing error : \" +  str(\"{:.4f}\".format(sum(error)/len(error))))\n",
    "\n",
    "\n",
    "\n",
    "errors = list()\n",
    "for learning_rate in learning_rates:\n",
    "    error = logistic_regression_with_zero_weight(testing_data_class_0_and_1_500_64, testing_data_classes_500_64, learning_rate)\n",
    "    test_erros_over_10_runs_with_zero_weight.append(\"{:.4f}\".format(sum(error)/len(error)))\n",
    "#     print(\"mean testing error with zero weight: \" +  str(\"{:.4f}\".format(sum(error)/len(error))))\n",
    "    errors.append(error)\n",
    "increase = np.array(test_erros_over_10_runs_with_zero_weight).astype(float) - np.array(test_erros_over_10_runs).astype(float)\n",
    "print(\"\\nFa: the average increase in the total test error : \\n\" + str(np.mean(increase)))\n",
    "\n",
    "mean_increase = np.mean(increase)\n",
    "increase_list = list()\n",
    "for i in range(64):\n",
    "    increase_list.append(mean_increase * (i+1))\n",
    "feature_wise_avg_error = list()\n",
    "errors_array = np.array(errors).astype(float)\n",
    "for i in range(len(errors[0])):\n",
    "    feature_wise_avg_error.append(sum(errors_array[:,i])/len(errors_array[:,i]))\n",
    "# print(\"\\nFa: feature_wise_avg_error : \" + str(feature_wise_avg_error))\n",
    "\n",
    "var = variance(np.array(testing_data_class_0_and_1_500_64).astype(float))\n",
    "print(\"\\nFb: the variance of each feature on the test set :\\n \" + str(var))\n",
    "\n",
    "m = mutual_info_regression(testing_data_class_0_and_1_500_64, testing_data_classes_500_64)\n",
    "print(\"\\nFc: the mutual information between the feature column and the label column :\\n \" + str(m.tolist()))\n",
    "\n",
    "# plt.plot(increase_list, var)\n",
    "plt.plot(increase_list, m)"
   ]
  },
  {
   "cell_type": "code",
   "execution_count": null,
   "metadata": {},
   "outputs": [],
   "source": []
  },
  {
   "cell_type": "code",
   "execution_count": null,
   "metadata": {},
   "outputs": [],
   "source": []
  },
  {
   "cell_type": "code",
   "execution_count": null,
   "metadata": {},
   "outputs": [],
   "source": []
  },
  {
   "cell_type": "code",
   "execution_count": null,
   "metadata": {},
   "outputs": [],
   "source": []
  },
  {
   "cell_type": "code",
   "execution_count": null,
   "metadata": {},
   "outputs": [],
   "source": []
  },
  {
   "cell_type": "code",
   "execution_count": null,
   "metadata": {},
   "outputs": [],
   "source": []
  },
  {
   "cell_type": "code",
   "execution_count": null,
   "metadata": {},
   "outputs": [],
   "source": []
  },
  {
   "cell_type": "code",
   "execution_count": null,
   "metadata": {},
   "outputs": [],
   "source": []
  }
 ],
 "metadata": {
  "kernelspec": {
   "display_name": "Python 3",
   "language": "python",
   "name": "python3"
  },
  "language_info": {
   "codemirror_mode": {
    "name": "ipython",
    "version": 3
   },
   "file_extension": ".py",
   "mimetype": "text/x-python",
   "name": "python",
   "nbconvert_exporter": "python",
   "pygments_lexer": "ipython3",
   "version": "3.8.3"
  }
 },
 "nbformat": 4,
 "nbformat_minor": 4
}
